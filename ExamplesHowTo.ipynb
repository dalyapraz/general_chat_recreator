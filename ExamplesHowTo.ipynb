{
 "cells": [
  {
   "cell_type": "code",
   "execution_count": 2,
   "id": "258914f6",
   "metadata": {},
   "outputs": [
    {
     "name": "stdout",
     "output_type": "stream",
     "text": [
      "Total processed message count: 168624\n",
      "Total number of conversation histories 2426\n",
      "No conversation found between bentley and koka.\n",
      "HTML file 'output_html/conversation_history_baget_bentley.html' created successfully.\n"
     ]
    }
   ],
   "source": [
    "from convo_regenerator import all_conversations_sorted_with_turns_and_html\n",
    "\n",
    "# Example 1: A nested dependent dropdown (dictionary of lists)\n",
    "intention_config = {\n",
    "    'name': 'intention',\n",
    "    'options': {\n",
    "        \"Personal\": [\n",
    "            \"Sharing info\",\n",
    "            \"Asking question\", \n",
    "            \"Social invitation\"\n",
    "        ],\n",
    "        \"Work\": [\n",
    "            \"Task assignment\",\n",
    "            \"Status update\",\n",
    "            \"Meeting coordination\"\n",
    "        ]\n",
    "    },\n",
    "    'label': 'Intention'\n",
    "    # button_text and csv_column will be auto-generated with label\n",
    "}\n",
    "\n",
    "# Example 2: A simple flat dropdown (just a list)\n",
    "tone_config = {\n",
    "    'name': 'tone',\n",
    "    'options': [\n",
    "        \"Happy\", \"Sad\", \"Urgent\", \"Casual\", \"Formal\"\n",
    "    ],\n",
    "    'label': 'Tone'\n",
    "    # button_text and csv_column will be auto-generated with label\n",
    "}\n",
    "\n",
    "\n",
    "# Combine all configurations\n",
    "dropdown_configs = [intention_config, tone_config]\n",
    "\n",
    "# Call to process conversations and generate HTML from Conti\n",
    "files = ['logs/Conti_chat_logs.json', 'logs/Conti_jabber_logs.json']\n",
    "user_aliases = 'logs/Conti_user match list.json'\n",
    "output_pairs = [\n",
    "    ('bentley', 'koka'),\n",
    "    ('baget', 'bentley')\n",
    "]\n",
    "\n",
    "conversation_turns = all_conversations_sorted_with_turns_and_html(\n",
    "    files, \n",
    "    user_aliases,\n",
    "    dropdown_configs=dropdown_configs,\n",
    "    output_users=output_pairs,\n",
    "    output_dir=\"output_html\"\n",
    ")"
   ]
  },
  {
   "cell_type": "code",
   "execution_count": null,
   "id": "cfcdf3bb",
   "metadata": {},
   "outputs": [],
   "source": []
  }
 ],
 "metadata": {
  "kernelspec": {
   "display_name": "Python 3",
   "language": "python",
   "name": "python3"
  },
  "language_info": {
   "codemirror_mode": {
    "name": "ipython",
    "version": 3
   },
   "file_extension": ".py",
   "mimetype": "text/x-python",
   "name": "python",
   "nbconvert_exporter": "python",
   "pygments_lexer": "ipython3",
   "version": "3.12.0"
  }
 },
 "nbformat": 4,
 "nbformat_minor": 5
}
